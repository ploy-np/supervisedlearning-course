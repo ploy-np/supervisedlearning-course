{
  "nbformat": 4,
  "nbformat_minor": 0,
  "metadata": {
    "colab": {
      "provenance": [],
      "collapsed_sections": []
    },
    "kernelspec": {
      "name": "python3",
      "display_name": "Python 3"
    },
    "language_info": {
      "name": "python"
    }
  },
  "cells": [
    {
      "cell_type": "markdown",
      "metadata": {
        "id": "RJaMh2nK8IqM"
      },
      "source": [
        "# WELCOME TO CLASSIFICATION NOTEBOOK"
      ]
    },
    {
      "cell_type": "markdown",
      "metadata": {
        "id": "C79922G6d31q"
      },
      "source": [
        "## Simple classifiers"
      ]
    },
    {
      "cell_type": "code",
      "metadata": {
        "id": "4WIrduFWfuv1"
      },
      "source": [
        "import matplotlib.pyplot as plt\n",
        "import numpy as np\n",
        "import pandas as pd\n",
        "\n",
        "from sklearn import datasets, linear_model"
      ],
      "execution_count": null,
      "outputs": []
    },
    {
      "cell_type": "code",
      "metadata": {
        "id": "DVIG1UyAfwQs"
      },
      "source": [
        "# Load the wine dataset \n",
        "dataset = datasets.load_wine()"
      ],
      "execution_count": null,
      "outputs": []
    },
    {
      "cell_type": "code",
      "metadata": {
        "colab": {
          "base_uri": "https://localhost:8080/"
        },
        "id": "kxzobrZJf0by",
        "outputId": "e0187c64-b6ad-4420-8c24-fa39d96e4674"
      },
      "source": [
        "print(dataset['DESCR'])"
      ],
      "execution_count": null,
      "outputs": [
        {
          "output_type": "stream",
          "text": [
            ".. _wine_dataset:\n",
            "\n",
            "Wine recognition dataset\n",
            "------------------------\n",
            "\n",
            "**Data Set Characteristics:**\n",
            "\n",
            "    :Number of Instances: 178 (50 in each of three classes)\n",
            "    :Number of Attributes: 13 numeric, predictive attributes and the class\n",
            "    :Attribute Information:\n",
            " \t\t- Alcohol\n",
            " \t\t- Malic acid\n",
            " \t\t- Ash\n",
            "\t\t- Alcalinity of ash  \n",
            " \t\t- Magnesium\n",
            "\t\t- Total phenols\n",
            " \t\t- Flavanoids\n",
            " \t\t- Nonflavanoid phenols\n",
            " \t\t- Proanthocyanins\n",
            "\t\t- Color intensity\n",
            " \t\t- Hue\n",
            " \t\t- OD280/OD315 of diluted wines\n",
            " \t\t- Proline\n",
            "\n",
            "    - class:\n",
            "            - class_0\n",
            "            - class_1\n",
            "            - class_2\n",
            "\t\t\n",
            "    :Summary Statistics:\n",
            "    \n",
            "    ============================= ==== ===== ======= =====\n",
            "                                   Min   Max   Mean     SD\n",
            "    ============================= ==== ===== ======= =====\n",
            "    Alcohol:                      11.0  14.8    13.0   0.8\n",
            "    Malic Acid:                   0.74  5.80    2.34  1.12\n",
            "    Ash:                          1.36  3.23    2.36  0.27\n",
            "    Alcalinity of Ash:            10.6  30.0    19.5   3.3\n",
            "    Magnesium:                    70.0 162.0    99.7  14.3\n",
            "    Total Phenols:                0.98  3.88    2.29  0.63\n",
            "    Flavanoids:                   0.34  5.08    2.03  1.00\n",
            "    Nonflavanoid Phenols:         0.13  0.66    0.36  0.12\n",
            "    Proanthocyanins:              0.41  3.58    1.59  0.57\n",
            "    Colour Intensity:              1.3  13.0     5.1   2.3\n",
            "    Hue:                          0.48  1.71    0.96  0.23\n",
            "    OD280/OD315 of diluted wines: 1.27  4.00    2.61  0.71\n",
            "    Proline:                       278  1680     746   315\n",
            "    ============================= ==== ===== ======= =====\n",
            "\n",
            "    :Missing Attribute Values: None\n",
            "    :Class Distribution: class_0 (59), class_1 (71), class_2 (48)\n",
            "    :Creator: R.A. Fisher\n",
            "    :Donor: Michael Marshall (MARSHALL%PLU@io.arc.nasa.gov)\n",
            "    :Date: July, 1988\n",
            "\n",
            "This is a copy of UCI ML Wine recognition datasets.\n",
            "https://archive.ics.uci.edu/ml/machine-learning-databases/wine/wine.data\n",
            "\n",
            "The data is the results of a chemical analysis of wines grown in the same\n",
            "region in Italy by three different cultivators. There are thirteen different\n",
            "measurements taken for different constituents found in the three types of\n",
            "wine.\n",
            "\n",
            "Original Owners: \n",
            "\n",
            "Forina, M. et al, PARVUS - \n",
            "An Extendible Package for Data Exploration, Classification and Correlation. \n",
            "Institute of Pharmaceutical and Food Analysis and Technologies,\n",
            "Via Brigata Salerno, 16147 Genoa, Italy.\n",
            "\n",
            "Citation:\n",
            "\n",
            "Lichman, M. (2013). UCI Machine Learning Repository\n",
            "[https://archive.ics.uci.edu/ml]. Irvine, CA: University of California,\n",
            "School of Information and Computer Science. \n",
            "\n",
            ".. topic:: References\n",
            "\n",
            "  (1) S. Aeberhard, D. Coomans and O. de Vel, \n",
            "  Comparison of Classifiers in High Dimensional Settings, \n",
            "  Tech. Rep. no. 92-02, (1992), Dept. of Computer Science and Dept. of  \n",
            "  Mathematics and Statistics, James Cook University of North Queensland. \n",
            "  (Also submitted to Technometrics). \n",
            "\n",
            "  The data was used with many others for comparing various \n",
            "  classifiers. The classes are separable, though only RDA \n",
            "  has achieved 100% correct classification. \n",
            "  (RDA : 100%, QDA 99.4%, LDA 98.9%, 1NN 96.1% (z-transformed data)) \n",
            "  (All results using the leave-one-out technique) \n",
            "\n",
            "  (2) S. Aeberhard, D. Coomans and O. de Vel, \n",
            "  \"THE CLASSIFICATION PERFORMANCE OF RDA\" \n",
            "  Tech. Rep. no. 92-01, (1992), Dept. of Computer Science and Dept. of \n",
            "  Mathematics and Statistics, James Cook University of North Queensland. \n",
            "  (Also submitted to Journal of Chemometrics).\n",
            "\n"
          ],
          "name": "stdout"
        }
      ]
    },
    {
      "cell_type": "code",
      "metadata": {
        "colab": {
          "base_uri": "https://localhost:8080/"
        },
        "id": "DZPNl8zLjg-C",
        "outputId": "81f12df5-c768-48c2-8cdd-47128a77c001"
      },
      "source": [
        "set(dataset['target'])"
      ],
      "execution_count": null,
      "outputs": [
        {
          "output_type": "execute_result",
          "data": {
            "text/plain": [
              "{0, 1, 2}"
            ]
          },
          "metadata": {
            "tags": []
          },
          "execution_count": 5
        }
      ]
    },
    {
      "cell_type": "markdown",
      "metadata": {
        "id": "gqeHzEF2jnsH"
      },
      "source": [
        "### Binary classifier"
      ]
    },
    {
      "cell_type": "code",
      "metadata": {
        "id": "gRcuzjt6jqPr"
      },
      "source": [
        "# Prepare the data\n",
        "y = (dataset['target'] == 1)*1 \n",
        "X = dataset['data']"
      ],
      "execution_count": null,
      "outputs": []
    },
    {
      "cell_type": "code",
      "metadata": {
        "id": "WdhLJINhkLRj"
      },
      "source": [
        "# Split the data\n",
        "from sklearn import model_selection\n",
        "RAND_STATE = 1234\n",
        "\n",
        "X_train, X_test, y_train, y_test = model_selection.train_test_split(X, y, test_size=0.25, random_state=RAND_STATE)\n"
      ],
      "execution_count": null,
      "outputs": []
    },
    {
      "cell_type": "code",
      "metadata": {
        "colab": {
          "base_uri": "https://localhost:8080/",
          "height": 317
        },
        "id": "h6C7fd_nkYjy",
        "outputId": "e0ca1944-07fa-4701-ef89-3211644416ca"
      },
      "source": [
        "# Understand the data\n",
        "\n",
        "# Number of samples in each class\n",
        "_ = plt.hist(y)\n",
        "plt.xlabel('Class')\n",
        "plt.ylabel('Frequency')"
      ],
      "execution_count": null,
      "outputs": [
        {
          "output_type": "execute_result",
          "data": {
            "text/plain": [
              "Text(0, 0.5, 'Frequency')"
            ]
          },
          "metadata": {
            "tags": []
          },
          "execution_count": 8
        },
        {
          "output_type": "display_data",
          "data": {
            "image/png": "[encoded data removed]",
            "text/plain": [
              "<Figure size 432x288 with 1 Axes>"
            ]
          },
          "metadata": {
            "tags": [],
            "needs_background": "light"
          }
        }
      ]
    },
    {
      "cell_type": "code",
      "metadata": {
        "id": "RAJxe440koMS"
      },
      "source": [
        "df_X = pd.DataFrame(X_train,columns = dataset['feature_names'])\n",
        "df_y = pd.DataFrame(y_train,columns=['Target'])\n",
        "df = pd.concat([df_X, df_y], axis=1)"
      ],
      "execution_count": null,
      "outputs": []
    },
    {
      "cell_type": "code",
      "metadata": {
        "colab": {
          "base_uri": "https://localhost:8080/",
          "height": 442
        },
        "id": "4gkfEtZ8kuMw",
        "outputId": "265191f6-c0bf-4827-fee2-5e7b7ac4f1c3"
      },
      "source": [
        "df"
      ],
      "execution_count": null,
      "outputs": [
        {
          "output_type": "execute_result",
          "data": {
            "text/html": [
              "<div>\n",
              "<style scoped>\n",
              "    .dataframe tbody tr th:only-of-type {\n",
              "        vertical-align: middle;\n",
              "    }\n",
              "\n",
              "    .dataframe tbody tr th {\n",
              "        vertical-align: top;\n",
              "    }\n",
              "\n",
              "    .dataframe thead th {\n",
              "        text-align: right;\n",
              "    }\n",
              "</style>\n",
              "<table border=\"1\" class=\"dataframe\">\n",
              "  <thead>\n",
              "    <tr style=\"text-align: right;\">\n",
              "      <th></th>\n",
              "      <th>alcohol</th>\n",
              "      <th>malic_acid</th>\n",
              "      <th>ash</th>\n",
              "      <th>alcalinity_of_ash</th>\n",
              "      <th>magnesium</th>\n",
              "      <th>total_phenols</th>\n",
              "      <th>flavanoids</th>\n",
              "      <th>nonflavanoid_phenols</th>\n",
              "      <th>proanthocyanins</th>\n",
              "      <th>color_intensity</th>\n",
              "      <th>hue</th>\n",
              "      <th>od280/od315_of_diluted_wines</th>\n",
              "      <th>proline</th>\n",
              "      <th>Target</th>\n",
              "    </tr>\n",
              "  </thead>\n",
              "  <tbody>\n",
              "    <tr>\n",
              "      <th>0</th>\n",
              "      <td>12.29</td>\n",
              "      <td>2.83</td>\n",
              "      <td>2.22</td>\n",
              "      <td>18.0</td>\n",
              "      <td>88.0</td>\n",
              "      <td>2.45</td>\n",
              "      <td>2.25</td>\n",
              "      <td>0.25</td>\n",
              "      <td>1.99</td>\n",
              "      <td>2.15</td>\n",
              "      <td>1.15</td>\n",
              "      <td>3.30</td>\n",
              "      <td>290.0</td>\n",
              "      <td>1</td>\n",
              "    </tr>\n",
              "    <tr>\n",
              "      <th>1</th>\n",
              "      <td>14.12</td>\n",
              "      <td>1.48</td>\n",
              "      <td>2.32</td>\n",
              "      <td>16.8</td>\n",
              "      <td>95.0</td>\n",
              "      <td>2.20</td>\n",
              "      <td>2.43</td>\n",
              "      <td>0.26</td>\n",
              "      <td>1.57</td>\n",
              "      <td>5.00</td>\n",
              "      <td>1.17</td>\n",
              "      <td>2.82</td>\n",
              "      <td>1280.0</td>\n",
              "      <td>0</td>\n",
              "    </tr>\n",
              "    <tr>\n",
              "      <th>2</th>\n",
              "      <td>13.23</td>\n",
              "      <td>3.30</td>\n",
              "      <td>2.28</td>\n",
              "      <td>18.5</td>\n",
              "      <td>98.0</td>\n",
              "      <td>1.80</td>\n",
              "      <td>0.83</td>\n",
              "      <td>0.61</td>\n",
              "      <td>1.87</td>\n",
              "      <td>10.52</td>\n",
              "      <td>0.56</td>\n",
              "      <td>1.51</td>\n",
              "      <td>675.0</td>\n",
              "      <td>0</td>\n",
              "    </tr>\n",
              "    <tr>\n",
              "      <th>3</th>\n",
              "      <td>11.96</td>\n",
              "      <td>1.09</td>\n",
              "      <td>2.30</td>\n",
              "      <td>21.0</td>\n",
              "      <td>101.0</td>\n",
              "      <td>3.38</td>\n",
              "      <td>2.14</td>\n",
              "      <td>0.13</td>\n",
              "      <td>1.65</td>\n",
              "      <td>3.21</td>\n",
              "      <td>0.99</td>\n",
              "      <td>3.13</td>\n",
              "      <td>886.0</td>\n",
              "      <td>1</td>\n",
              "    </tr>\n",
              "    <tr>\n",
              "      <th>4</th>\n",
              "      <td>12.85</td>\n",
              "      <td>3.27</td>\n",
              "      <td>2.58</td>\n",
              "      <td>22.0</td>\n",
              "      <td>106.0</td>\n",
              "      <td>1.65</td>\n",
              "      <td>0.60</td>\n",
              "      <td>0.60</td>\n",
              "      <td>0.96</td>\n",
              "      <td>5.58</td>\n",
              "      <td>0.87</td>\n",
              "      <td>2.11</td>\n",
              "      <td>570.0</td>\n",
              "      <td>0</td>\n",
              "    </tr>\n",
              "    <tr>\n",
              "      <th>...</th>\n",
              "      <td>...</td>\n",
              "      <td>...</td>\n",
              "      <td>...</td>\n",
              "      <td>...</td>\n",
              "      <td>...</td>\n",
              "      <td>...</td>\n",
              "      <td>...</td>\n",
              "      <td>...</td>\n",
              "      <td>...</td>\n",
              "      <td>...</td>\n",
              "      <td>...</td>\n",
              "      <td>...</td>\n",
              "      <td>...</td>\n",
              "      <td>...</td>\n",
              "    </tr>\n",
              "    <tr>\n",
              "      <th>128</th>\n",
              "      <td>13.11</td>\n",
              "      <td>1.90</td>\n",
              "      <td>2.75</td>\n",
              "      <td>25.5</td>\n",
              "      <td>116.0</td>\n",
              "      <td>2.20</td>\n",
              "      <td>1.28</td>\n",
              "      <td>0.26</td>\n",
              "      <td>1.56</td>\n",
              "      <td>7.10</td>\n",
              "      <td>0.61</td>\n",
              "      <td>1.33</td>\n",
              "      <td>425.0</td>\n",
              "      <td>0</td>\n",
              "    </tr>\n",
              "    <tr>\n",
              "      <th>129</th>\n",
              "      <td>11.82</td>\n",
              "      <td>1.47</td>\n",
              "      <td>1.99</td>\n",
              "      <td>20.8</td>\n",
              "      <td>86.0</td>\n",
              "      <td>1.98</td>\n",
              "      <td>1.60</td>\n",
              "      <td>0.30</td>\n",
              "      <td>1.53</td>\n",
              "      <td>1.95</td>\n",
              "      <td>0.95</td>\n",
              "      <td>3.33</td>\n",
              "      <td>495.0</td>\n",
              "      <td>1</td>\n",
              "    </tr>\n",
              "    <tr>\n",
              "      <th>130</th>\n",
              "      <td>13.77</td>\n",
              "      <td>1.90</td>\n",
              "      <td>2.68</td>\n",
              "      <td>17.1</td>\n",
              "      <td>115.0</td>\n",
              "      <td>3.00</td>\n",
              "      <td>2.79</td>\n",
              "      <td>0.39</td>\n",
              "      <td>1.68</td>\n",
              "      <td>6.30</td>\n",
              "      <td>1.13</td>\n",
              "      <td>2.93</td>\n",
              "      <td>1375.0</td>\n",
              "      <td>0</td>\n",
              "    </tr>\n",
              "    <tr>\n",
              "      <th>131</th>\n",
              "      <td>13.07</td>\n",
              "      <td>1.50</td>\n",
              "      <td>2.10</td>\n",
              "      <td>15.5</td>\n",
              "      <td>98.0</td>\n",
              "      <td>2.40</td>\n",
              "      <td>2.64</td>\n",
              "      <td>0.28</td>\n",
              "      <td>1.37</td>\n",
              "      <td>3.70</td>\n",
              "      <td>1.18</td>\n",
              "      <td>2.69</td>\n",
              "      <td>1020.0</td>\n",
              "      <td>0</td>\n",
              "    </tr>\n",
              "    <tr>\n",
              "      <th>132</th>\n",
              "      <td>13.90</td>\n",
              "      <td>1.68</td>\n",
              "      <td>2.12</td>\n",
              "      <td>16.0</td>\n",
              "      <td>101.0</td>\n",
              "      <td>3.10</td>\n",
              "      <td>3.39</td>\n",
              "      <td>0.21</td>\n",
              "      <td>2.14</td>\n",
              "      <td>6.10</td>\n",
              "      <td>0.91</td>\n",
              "      <td>3.33</td>\n",
              "      <td>985.0</td>\n",
              "      <td>0</td>\n",
              "    </tr>\n",
              "  </tbody>\n",
              "</table>\n",
              "<p>133 rows × 14 columns</p>\n",
              "</div>"
            ],
            "text/plain": [
              "     alcohol  malic_acid   ash  ...  od280/od315_of_diluted_wines  proline  Target\n",
              "0      12.29        2.83  2.22  ...                          3.30    290.0       1\n",
              "1      14.12        1.48  2.32  ...                          2.82   1280.0       0\n",
              "2      13.23        3.30  2.28  ...                          1.51    675.0       0\n",
              "3      11.96        1.09  2.30  ...                          3.13    886.0       1\n",
              "4      12.85        3.27  2.58  ...                          2.11    570.0       0\n",
              "..       ...         ...   ...  ...                           ...      ...     ...\n",
              "128    13.11        1.90  2.75  ...                          1.33    425.0       0\n",
              "129    11.82        1.47  1.99  ...                          3.33    495.0       1\n",
              "130    13.77        1.90  2.68  ...                          2.93   1375.0       0\n",
              "131    13.07        1.50  2.10  ...                          2.69   1020.0       0\n",
              "132    13.90        1.68  2.12  ...                          3.33    985.0       0\n",
              "\n",
              "[133 rows x 14 columns]"
            ]
          },
          "metadata": {
            "tags": []
          },
          "execution_count": 10
        }
      ]
    },
    {
      "cell_type": "code",
      "metadata": {
        "id": "G0JZ8QKgk-jd"
      },
      "source": [
        "# Preprocess the data\n",
        "from sklearn import preprocessing\n",
        "\n",
        "scaler = preprocessing.StandardScaler()\n",
        "scaler.fit(X_train)\n",
        "X_train_scaled = scaler.transform(X_train)"
      ],
      "execution_count": null,
      "outputs": []
    },
    {
      "cell_type": "code",
      "metadata": {
        "colab": {
          "base_uri": "https://localhost:8080/"
        },
        "id": "hNNEAffqlNml",
        "outputId": "029d1b42-c545-4d01-c31b-a14735fc3365"
      },
      "source": [
        "# Train the model\n",
        "model = linear_model.LogisticRegression(penalty='l2')\n",
        "model.fit(X_train_scaled,y_train)"
      ],
      "execution_count": null,
      "outputs": [
        {
          "output_type": "execute_result",
          "data": {
            "text/plain": [
              "LogisticRegression(C=1.0, class_weight=None, dual=False, fit_intercept=True,\n",
              "                   intercept_scaling=1, l1_ratio=None, max_iter=100,\n",
              "                   multi_class='auto', n_jobs=None, penalty='l2',\n",
              "                   random_state=None, solver='lbfgs', tol=0.0001, verbose=0,\n",
              "                   warm_start=False)"
            ]
          },
          "metadata": {
            "tags": []
          },
          "execution_count": 12
        }
      ]
    },
    {
      "cell_type": "code",
      "metadata": {
        "colab": {
          "base_uri": "https://localhost:8080/"
        },
        "id": "avmYQzzNljrI",
        "outputId": "2f8362de-8c18-4a21-bfff-3474b07390df"
      },
      "source": [
        "# Make predictions\n",
        "model.predict(scaler.transform(X_test))"
      ],
      "execution_count": null,
      "outputs": [
        {
          "output_type": "execute_result",
          "data": {
            "text/plain": [
              "array([1, 0, 1, 1, 0, 1, 0, 0, 0, 0, 0, 1, 0, 1, 1, 0, 0, 0, 0, 0, 0, 1,\n",
              "       1, 0, 1, 0, 0, 0, 0, 1, 0, 0, 1, 1, 1, 1, 0, 0, 0, 0, 0, 0, 1, 0,\n",
              "       1])"
            ]
          },
          "metadata": {
            "tags": []
          },
          "execution_count": 13
        }
      ]
    },
    {
      "cell_type": "code",
      "metadata": {
        "colab": {
          "base_uri": "https://localhost:8080/"
        },
        "id": "cPTfF9djl_6x",
        "outputId": "259532f6-3503-480c-f577-6f1751cdcafe"
      },
      "source": [
        "# Interpret the results\n",
        "print(model.intercept_)\n",
        "print(model.coef_)"
      ],
      "execution_count": null,
      "outputs": [
        {
          "output_type": "stream",
          "text": [
            "[-1.58917803]\n",
            "[[-1.45701099 -0.81255833 -0.87116652  0.64651768 -0.04832776  0.03278073\n",
            "   0.25999405  0.2592532   0.18032925 -1.90580958  1.00356092  0.12483151\n",
            "  -1.6647994 ]]\n"
          ],
          "name": "stdout"
        }
      ]
    },
    {
      "cell_type": "markdown",
      "metadata": {
        "id": "_zJJZVQtmMk-"
      },
      "source": [
        "### Multi-class classifier"
      ]
    },
    {
      "cell_type": "code",
      "metadata": {
        "id": "faA-3z_UmQM7"
      },
      "source": [
        "# Prepare the data\n",
        "y = dataset['target']\n",
        "X = dataset['data']"
      ],
      "execution_count": null,
      "outputs": []
    },
    {
      "cell_type": "code",
      "metadata": {
        "id": "bwK-0iDmmfjI"
      },
      "source": [
        "# Split the data\n",
        "from sklearn.model_selection import StratifiedShuffleSplit\n",
        "sss = StratifiedShuffleSplit(n_splits=1, test_size=0.4, random_state=RAND_STATE)\n",
        "for train_index, test_index in sss.split(X,y):\n",
        "  X_train, X_test = X[train_index],X[test_index]\n",
        "  y_train, y_test = y[train_index],y[test_index]"
      ],
      "execution_count": null,
      "outputs": []
    },
    {
      "cell_type": "code",
      "metadata": {
        "id": "C12AMZN3nB8U"
      },
      "source": [
        "# Preprocess the data\n",
        "scaler = preprocessing.StandardScaler()\n",
        "scaler.fit(X_train)\n",
        "X_train_scaled = scaler.transform(X_train)"
      ],
      "execution_count": null,
      "outputs": []
    },
    {
      "cell_type": "code",
      "metadata": {
        "colab": {
          "base_uri": "https://localhost:8080/"
        },
        "id": "ItscWVIgnH-W",
        "outputId": "d83fb2e4-0d76-4aff-a6b2-037f0ee4d873"
      },
      "source": [
        "# Train the model\n",
        "model = linear_model.LogisticRegression(penalty='l2') \n",
        "model.fit(X_train_scaled,y_train)"
      ],
      "execution_count": null,
      "outputs": [
        {
          "output_type": "execute_result",
          "data": {
            "text/plain": [
              "LogisticRegression(C=1.0, class_weight=None, dual=False, fit_intercept=True,\n",
              "                   intercept_scaling=1, l1_ratio=None, max_iter=100,\n",
              "                   multi_class='auto', n_jobs=None, penalty='l2',\n",
              "                   random_state=None, solver='lbfgs', tol=0.0001, verbose=0,\n",
              "                   warm_start=False)"
            ]
          },
          "metadata": {
            "tags": []
          },
          "execution_count": 18
        }
      ]
    },
    {
      "cell_type": "code",
      "metadata": {
        "colab": {
          "base_uri": "https://localhost:8080/"
        },
        "id": "JRm_jo4onQ0Y",
        "outputId": "d6661acd-984f-4567-ae7c-e953fb7ab3bf"
      },
      "source": [
        "# Make predictions\n",
        "model.predict(scaler.transform(X_test))"
      ],
      "execution_count": null,
      "outputs": [
        {
          "output_type": "execute_result",
          "data": {
            "text/plain": [
              "array([1, 2, 0, 0, 1, 1, 1, 1, 0, 2, 0, 1, 1, 2, 1, 2, 2, 0, 0, 1, 1, 1,\n",
              "       0, 1, 0, 1, 0, 1, 0, 0, 2, 0, 2, 2, 1, 0, 1, 1, 1, 1, 2, 0, 2, 0,\n",
              "       0, 0, 2, 2, 0, 0, 1, 1, 2, 0, 1, 2, 1, 1, 0, 2, 2, 0, 1, 0, 2, 0,\n",
              "       0, 2, 0, 2, 2, 0])"
            ]
          },
          "metadata": {
            "tags": []
          },
          "execution_count": 19
        }
      ]
    },
    {
      "cell_type": "code",
      "metadata": {
        "colab": {
          "base_uri": "https://localhost:8080/"
        },
        "id": "SziayrEjnt4l",
        "outputId": "28fa1abf-3cb1-4ab9-a23c-1f84ff882f7e"
      },
      "source": [
        "model.predict_proba(scaler.transform(X_test))"
      ],
      "execution_count": null,
      "outputs": [
        {
          "output_type": "execute_result",
          "data": {
            "text/plain": [
              "array([[9.34851559e-02, 9.06244438e-01, 2.70406230e-04],\n",
              "       [5.68704609e-03, 6.01213682e-02, 9.34191586e-01],\n",
              "       [9.98746180e-01, 1.17402969e-03, 7.97906351e-05],\n",
              "       [9.73099656e-01, 2.11009133e-02, 5.79943120e-03],\n",
              "       [2.98715336e-01, 6.95369113e-01, 5.91555110e-03],\n",
              "       [2.68583744e-02, 9.69771960e-01, 3.36966548e-03],\n",
              "       [5.41627743e-02, 9.36994279e-01, 8.84294697e-03],\n",
              "       [1.71254044e-04, 9.99357768e-01, 4.70977655e-04],\n",
              "       [9.85712382e-01, 1.37464304e-02, 5.41188016e-04],\n",
              "       [1.37418155e-03, 1.94937560e-03, 9.96676443e-01],\n",
              "       [9.93008871e-01, 6.22390898e-03, 7.67220445e-04],\n",
              "       [5.15306301e-03, 9.94732085e-01, 1.14851966e-04],\n",
              "       [6.87068704e-04, 9.98944221e-01, 3.68710645e-04],\n",
              "       [1.54317046e-03, 3.35412277e-02, 9.64915602e-01],\n",
              "       [5.78734319e-04, 9.98724216e-01, 6.97049561e-04],\n",
              "       [7.35428687e-04, 4.01370932e-02, 9.59127478e-01],\n",
              "       [1.51712762e-03, 9.58562957e-04, 9.97524309e-01],\n",
              "       [5.44583361e-01, 4.53339883e-01, 2.07675580e-03],\n",
              "       [9.96031291e-01, 2.77563669e-03, 1.19307270e-03],\n",
              "       [1.85753254e-02, 9.81285241e-01, 1.39433958e-04],\n",
              "       [1.00769241e-01, 8.97995920e-01, 1.23483888e-03],\n",
              "       [8.97578688e-04, 9.98006937e-01, 1.09548384e-03],\n",
              "       [9.95098499e-01, 3.50453599e-03, 1.39696460e-03],\n",
              "       [3.20565304e-03, 9.96644158e-01, 1.50189385e-04],\n",
              "       [7.92542659e-01, 2.05290209e-01, 2.16713155e-03],\n",
              "       [6.47274304e-04, 9.98835198e-01, 5.17527208e-04],\n",
              "       [8.72605092e-01, 1.19081204e-01, 8.31370455e-03],\n",
              "       [2.38319940e-03, 9.96133585e-01, 1.48321523e-03],\n",
              "       [5.13742593e-01, 4.81636594e-01, 4.62081332e-03],\n",
              "       [8.68317693e-01, 1.28707379e-01, 2.97492840e-03],\n",
              "       [4.03777875e-03, 4.79772141e-04, 9.95482449e-01],\n",
              "       [9.98801009e-01, 2.81732910e-04, 9.17258230e-04],\n",
              "       [3.21993536e-02, 2.27701065e-01, 7.40099581e-01],\n",
              "       [1.03104720e-03, 2.18460596e-04, 9.98750492e-01],\n",
              "       [3.32789984e-02, 9.54679304e-01, 1.20416973e-02],\n",
              "       [9.99233424e-01, 5.59525728e-04, 2.07050543e-04],\n",
              "       [5.52574370e-02, 9.40337480e-01, 4.40508266e-03],\n",
              "       [5.41301424e-04, 9.97221373e-01, 2.23732539e-03],\n",
              "       [9.29815901e-03, 9.90169633e-01, 5.32207678e-04],\n",
              "       [1.21977210e-05, 9.99987142e-01, 6.60653167e-07],\n",
              "       [5.99164495e-03, 4.70896858e-02, 9.46918669e-01],\n",
              "       [8.65308343e-01, 1.33226063e-01, 1.46559434e-03],\n",
              "       [5.16777661e-02, 4.05070160e-01, 5.43252074e-01],\n",
              "       [9.99966065e-01, 4.06124669e-06, 2.98736763e-05],\n",
              "       [9.92208404e-01, 5.93331274e-03, 1.85828296e-03],\n",
              "       [7.73706610e-01, 1.98251702e-01, 2.80416884e-02],\n",
              "       [4.22863767e-03, 6.66772474e-02, 9.29094115e-01],\n",
              "       [2.55091682e-04, 1.28101447e-02, 9.86934764e-01],\n",
              "       [9.99061475e-01, 3.07228489e-04, 6.31296184e-04],\n",
              "       [8.66643360e-01, 1.18630009e-01, 1.47266315e-02],\n",
              "       [1.42641158e-04, 9.99849650e-01, 7.70920444e-06],\n",
              "       [1.68133713e-03, 9.98263097e-01, 5.55660786e-05],\n",
              "       [1.93279924e-03, 5.33414426e-04, 9.97533786e-01],\n",
              "       [9.99516625e-01, 2.26916957e-04, 2.56457910e-04],\n",
              "       [2.21396784e-03, 9.97209534e-01, 5.76498537e-04],\n",
              "       [7.26557980e-04, 3.07554605e-02, 9.68517982e-01],\n",
              "       [3.18633373e-02, 9.68081056e-01, 5.56062889e-05],\n",
              "       [1.74447340e-03, 9.97420202e-01, 8.35324598e-04],\n",
              "       [9.99788506e-01, 1.67116005e-04, 4.43775176e-05],\n",
              "       [1.36442839e-03, 2.56234607e-03, 9.96073226e-01],\n",
              "       [4.93551405e-03, 2.13616458e-02, 9.73702840e-01],\n",
              "       [9.94910042e-01, 4.43362757e-03, 6.56330280e-04],\n",
              "       [4.16845057e-03, 9.66297948e-01, 2.95336012e-02],\n",
              "       [9.96706534e-01, 2.96563893e-03, 3.27827423e-04],\n",
              "       [6.27062193e-04, 1.99701044e-03, 9.97375927e-01],\n",
              "       [9.99838832e-01, 7.31659549e-05, 8.80020634e-05],\n",
              "       [9.98892627e-01, 4.85808241e-04, 6.21564645e-04],\n",
              "       [1.58766375e-03, 5.64633675e-02, 9.41948969e-01],\n",
              "       [9.92958702e-01, 6.74680393e-03, 2.94494076e-04],\n",
              "       [1.47260164e-02, 3.73892366e-02, 9.47884747e-01],\n",
              "       [4.06997567e-03, 1.24566181e-01, 8.71363843e-01],\n",
              "       [9.27234349e-01, 7.21747860e-02, 5.90865434e-04]])"
            ]
          },
          "metadata": {
            "tags": []
          },
          "execution_count": 20
        }
      ]
    },
    {
      "cell_type": "markdown",
      "metadata": {
        "id": "4m3Jxj7PoVPW"
      },
      "source": [
        "**Challenge**: Make the prediction class from the predicted probability."
      ]
    },
    {
      "cell_type": "code",
      "metadata": {
        "colab": {
          "base_uri": "https://localhost:8080/"
        },
        "id": "4--_0hz-ohOx",
        "outputId": "69216f83-139c-45ec-e5cc-a3069dd4fd3b"
      },
      "source": [
        "# Interpret the results\n",
        "print(model.intercept_)\n",
        "print(model.coef_)"
      ],
      "execution_count": null,
      "outputs": [
        {
          "output_type": "stream",
          "text": [
            "[ 0.10652283  0.66974124 -0.77626407]\n",
            "[[ 0.67844247  0.14493702  0.23404345 -0.4159565   0.31850714  0.37752148\n",
            "   0.57626686 -0.24235122  0.14351622  0.20594288  0.16918513  0.66699586\n",
            "   0.97514837]\n",
            " [-0.65522488 -0.30642279 -0.68235369  0.27318547 -0.42245716 -0.17963612\n",
            "   0.38792954  0.23992053  0.11652933 -0.95434024  0.64938029  0.02084025\n",
            "  -0.93055833]\n",
            " [-0.02321759  0.16148577  0.44831024  0.14277103  0.10395002 -0.19788535\n",
            "  -0.96419641  0.00243069 -0.26004555  0.74839736 -0.81856541 -0.68783611\n",
            "  -0.04459004]]\n"
          ],
          "name": "stdout"
        }
      ]
    },
    {
      "cell_type": "markdown",
      "metadata": {
        "id": "6RlsMfiusMR0"
      },
      "source": [
        "## Evaluation metrics"
      ]
    },
    {
      "cell_type": "code",
      "metadata": {
        "id": "tcpAni0QsQX_"
      },
      "source": [
        "from sklearn import metrics "
      ],
      "execution_count": null,
      "outputs": []
    },
    {
      "cell_type": "code",
      "metadata": {
        "colab": {
          "base_uri": "https://localhost:8080/"
        },
        "id": "RudsJb6PtLD8",
        "outputId": "9756fd18-52c7-4ef8-d404-99d4071962d8"
      },
      "source": [
        "# Multi-class classification\n",
        "y_test_pred = model.predict(scaler.transform(X_test))\n",
        "y_test_pred"
      ],
      "execution_count": null,
      "outputs": [
        {
          "output_type": "execute_result",
          "data": {
            "text/plain": [
              "array([1, 2, 0, 0, 1, 1, 1, 1, 0, 2, 0, 1, 1, 2, 1, 2, 2, 0, 0, 1, 1, 1,\n",
              "       0, 1, 0, 1, 0, 1, 0, 0, 2, 0, 2, 2, 1, 0, 1, 1, 1, 1, 2, 0, 2, 0,\n",
              "       0, 0, 2, 2, 0, 0, 1, 1, 2, 0, 1, 2, 1, 1, 0, 2, 2, 0, 1, 0, 2, 0,\n",
              "       0, 2, 0, 2, 2, 0])"
            ]
          },
          "metadata": {
            "tags": []
          },
          "execution_count": 23
        }
      ]
    },
    {
      "cell_type": "code",
      "metadata": {
        "colab": {
          "base_uri": "https://localhost:8080/"
        },
        "id": "M2eaEE6OtXhV",
        "outputId": "ec63807f-37fc-497f-a263-e0481a97c973"
      },
      "source": [
        "# Accuracy\n",
        "metrics.accuracy_score(y_test,y_test_pred)"
      ],
      "execution_count": null,
      "outputs": [
        {
          "output_type": "execute_result",
          "data": {
            "text/plain": [
              "0.9444444444444444"
            ]
          },
          "metadata": {
            "tags": []
          },
          "execution_count": 24
        }
      ]
    },
    {
      "cell_type": "code",
      "metadata": {
        "colab": {
          "base_uri": "https://localhost:8080/"
        },
        "id": "r5GlIXwYtkN2",
        "outputId": "5a0e3bf8-1bde-445c-bdb5-95548487eea0"
      },
      "source": [
        "# Confusion matrix\n",
        "metrics.confusion_matrix(y_test,y_test_pred)"
      ],
      "execution_count": null,
      "outputs": [
        {
          "output_type": "execute_result",
          "data": {
            "text/plain": [
              "array([[24,  0,  0],\n",
              "       [ 3, 25,  1],\n",
              "       [ 0,  0, 19]])"
            ]
          },
          "metadata": {
            "tags": []
          },
          "execution_count": 25
        }
      ]
    },
    {
      "cell_type": "code",
      "metadata": {
        "colab": {
          "base_uri": "https://localhost:8080/"
        },
        "id": "uR4Nsx2Bt0Yc",
        "outputId": "e3e918a6-5ccf-45f1-d5fa-a03f0dd1f593"
      },
      "source": [
        "# Precision, recall, f1, support\n",
        "metrics.precision_recall_fscore_support(y_test, y_test_pred)"
      ],
      "execution_count": null,
      "outputs": [
        {
          "output_type": "execute_result",
          "data": {
            "text/plain": [
              "(array([0.88888889, 1.        , 0.95      ]),\n",
              " array([1.        , 0.86206897, 1.        ]),\n",
              " array([0.94117647, 0.92592593, 0.97435897]),\n",
              " array([24, 29, 19]))"
            ]
          },
          "metadata": {
            "tags": []
          },
          "execution_count": 26
        }
      ]
    },
    {
      "cell_type": "code",
      "metadata": {
        "colab": {
          "base_uri": "https://localhost:8080/",
          "height": 317
        },
        "id": "NB_QemgfuQUL",
        "outputId": "0451c9ff-218f-40bb-b527-f8855285d589"
      },
      "source": [
        "# Precision-recall curve\n",
        "y_test_pred_prob = model.predict_proba(scaler.transform(X_test))\n",
        "precisions, recalls, thresholds = metrics.precision_recall_curve(y_test==1,y_test_pred_prob[:,1])\n",
        "plt.plot(recalls,precisions)\n",
        "plt.xlabel('Recall')\n",
        "plt.ylabel('Precision')"
      ],
      "execution_count": null,
      "outputs": [
        {
          "output_type": "execute_result",
          "data": {
            "text/plain": [
              "Text(0, 0.5, 'Precision')"
            ]
          },
          "metadata": {
            "tags": []
          },
          "execution_count": 27
        },
        {
          "output_type": "display_data",
          "data": {
            "image/png": "[encoded data removed]",
            "text/plain": [
              "<Figure size 432x288 with 1 Axes>"
            ]
          },
          "metadata": {
            "tags": [],
            "needs_background": "light"
          }
        }
      ]
    },
    {
      "cell_type": "code",
      "metadata": {
        "colab": {
          "base_uri": "https://localhost:8080/",
          "height": 317
        },
        "id": "ZGxe8zMbuz9O",
        "outputId": "9e19f9e4-d0cc-4147-b891-c7acbc925e8c"
      },
      "source": [
        "# ROC curve\n",
        "auc = metrics.roc_auc_score(y_test==1,y_test_pred_prob[:,1])\n",
        "fpr,tpr,thresholds = metrics.roc_curve(y_test==1,y_test_pred_prob[:,1])\n",
        "plt.plot(fpr,tpr)\n",
        "plt.xlabel('FPR')\n",
        "plt.ylabel('TPR')"
      ],
      "execution_count": null,
      "outputs": [
        {
          "output_type": "execute_result",
          "data": {
            "text/plain": [
              "Text(0, 0.5, 'TPR')"
            ]
          },
          "metadata": {
            "tags": []
          },
          "execution_count": 29
        },
        {
          "output_type": "display_data",
          "data": {
            "image/png": "[encoded data removed]",
            "text/plain": [
              "<Figure size 432x288 with 1 Axes>"
            ]
          },
          "metadata": {
            "tags": [],
            "needs_background": "light"
          }
        }
      ]
    },
    {
      "cell_type": "markdown",
      "metadata": {
        "id": "blWg_dpJvNiV"
      },
      "source": [
        "**Challenge**: For your understanding, try to implement the precision-recall curve and the ROC curve by yourself."
      ]
    }
  ]
}